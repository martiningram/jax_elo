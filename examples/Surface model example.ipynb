{
 "cells": [
  {
   "cell_type": "markdown",
   "metadata": {},
   "source": [
    "### Surface model example\n",
    "\n",
    "This example shows how to fit the model taking margin of victory and surface into account.\n",
    "\n",
    "There is a set of convenient functions in `jax_elo.models.correlated_skills_model` which we will use for this."
   ]
  },
  {
   "cell_type": "code",
   "execution_count": null,
   "metadata": {},
   "outputs": [],
   "source": [
    "import os; os.environ['CUDA_VISIBLE_DEVICES'] = ''\n",
    "from jax_elo.models.correlated_skills_model import fit, calculate_ratings, predict, get_player_skill_history\n",
    "from jax_elo.utils.data import get_data"
   ]
  },
  {
   "cell_type": "code",
   "execution_count": null,
   "metadata": {},
   "outputs": [],
   "source": [
    "# Change this to where your data is located.\n",
    "# This uses Jeff Sackmann's dataset, which is available here:\n",
    "# https://github.com/JeffSackmann/tennis_atp\n",
    "data = get_data('/home/martin/data/tennis_atp/')"
   ]
  },
  {
   "cell_type": "code",
   "execution_count": null,
   "metadata": {},
   "outputs": [],
   "source": [
    "to_use = data[data['tourney_date'].dt.year >= 2010]\n",
    "to_use = to_use[to_use['surface'] != 'Carpet']\n",
    "to_use = to_use.dropna(subset=['spw_winner', 'spw_loser'])"
   ]
  },
  {
   "cell_type": "code",
   "execution_count": null,
   "metadata": {},
   "outputs": [],
   "source": [
    "# Compute the margin on the % of service points won\n",
    "margins = to_use['spw_winner'] - to_use['spw_loser']"
   ]
  },
  {
   "cell_type": "code",
   "execution_count": null,
   "metadata": {},
   "outputs": [],
   "source": [
    "# We can ignore the matches from 2010 and 2011 using the objective mask.\n",
    "objective_mask = (to_use['tourney_date'].dt.year >= 2012).values.astype(float)\n",
    "# But we'll set it to None for the time being, which means we'll use all data.\n",
    "objective_mask = None"
   ]
  },
  {
   "cell_type": "code",
   "execution_count": null,
   "metadata": {},
   "outputs": [],
   "source": [
    "# Fit the model -- this might take a few minutes (but not more than that)\n",
    "params, opt_info = fit(to_use['winner_name'], to_use['loser_name'], to_use['surface'].values, \n",
    "                       margins=margins.values, verbose=True, objective_mask=objective_mask)"
   ]
  },
  {
   "cell_type": "code",
   "execution_count": null,
   "metadata": {},
   "outputs": [],
   "source": [
    "# The parameters found are:\n",
    "params"
   ]
  },
  {
   "cell_type": "code",
   "execution_count": null,
   "metadata": {},
   "outputs": [],
   "source": [
    "# We can now calculate the rating history:\n",
    "history, final_rating_dict, mark_names = calculate_ratings(params, to_use['winner_name'], to_use['loser_name'],\n",
    "                                                           to_use['surface'].values, margins.values)"
   ]
  },
  {
   "cell_type": "code",
   "execution_count": null,
   "metadata": {},
   "outputs": [],
   "source": [
    "# Here's an example entry:\n",
    "history[-1]"
   ]
  },
  {
   "cell_type": "code",
   "execution_count": null,
   "metadata": {},
   "outputs": [],
   "source": [
    "# We can predict matches on a particular surface\n",
    "predict(final_rating_dict, params, 'Roger Federer', 'Tennys Sandgren', 'Hard', mark_names)"
   ]
  },
  {
   "cell_type": "code",
   "execution_count": null,
   "metadata": {},
   "outputs": [],
   "source": [
    "# We can plot the ratings over time:\n",
    "import matplotlib.pyplot as plt\n",
    "%matplotlib inline\n",
    "\n",
    "f, ax = plt.subplots(len(mark_names), 1)\n",
    "\n",
    "start_year = 2012\n",
    "\n",
    "for cur_player in ['Roger Federer', 'Rafael Nadal', 'Novak Djokovic', 'Andy Murray']:\n",
    "\n",
    "    cur_history = get_player_skill_history(history, final_rating_dict, to_use['tourney_date'].values, cur_player)\n",
    "    cur_history = cur_history[cur_history.index >= f'{start_year}-01-01']\n",
    "    \n",
    "    for cur_surface, cur_ax in zip(mark_names, ax.reshape(-1)):\n",
    "        cur_ax.step(cur_history.index, cur_history[cur_surface].values, label=cur_player)\n",
    "        cur_ax.legend(ncol=4, loc='upper center')\n",
    "        cur_ax.set_title(cur_surface)\n",
    "        cur_ax.set_ylim(1700, 2700)\n",
    "\n",
    "f.set_size_inches(8, 9)\n",
    "f.tight_layout()\n"
   ]
  },
  {
   "cell_type": "code",
   "execution_count": null,
   "metadata": {},
   "outputs": [],
   "source": [
    "# We can look at the marginal standard deviations on each surface\n",
    "import numpy as np\n",
    "import pandas as pd\n",
    "\n",
    "prior_sd = pd.Series(np.sqrt(np.diag(params.theta['cov_mat'])), mark_names)\n",
    "print(prior_sd)"
   ]
  },
  {
   "cell_type": "code",
   "execution_count": null,
   "metadata": {},
   "outputs": [],
   "source": [
    "# Finally, we can look at the correlation matrix between surface results\n",
    "def covar_to_corr(covar_mat):\n",
    "    # Turns a covariance matrix into a correlation matrix\n",
    "\n",
    "    marg_var = np.diag(covar_mat)\n",
    "    marg_sd = np.sqrt(marg_var)\n",
    "    inv_marg = np.diag(1. / marg_sd)\n",
    "\n",
    "    return np.dot(np.dot(inv_marg, covar_mat), inv_marg)\n",
    "\n",
    "corr_mat = covar_to_corr(params.theta['cov_mat'])"
   ]
  },
  {
   "cell_type": "code",
   "execution_count": null,
   "metadata": {},
   "outputs": [],
   "source": [
    "pd.DataFrame(corr_mat, index=mark_names, columns=mark_names).round(3)"
   ]
  },
  {
   "cell_type": "code",
   "execution_count": null,
   "metadata": {},
   "outputs": [],
   "source": [
    "win_probs = np.stack([x['winner_prior_prob'] for x in history])\n",
    "np.mean(np.log(win_probs))"
   ]
  },
  {
   "cell_type": "code",
   "execution_count": null,
   "metadata": {},
   "outputs": [],
   "source": [
    "# Compare with Elo:\n",
    "from jax_elo.utils.elo import optimise_static_k, compute_elo_ratings"
   ]
  },
  {
   "cell_type": "code",
   "execution_count": null,
   "metadata": {},
   "outputs": [],
   "source": [
    "k, _ = optimise_static_k(to_use['winner_name'].values, to_use['loser_name'].values)"
   ]
  },
  {
   "cell_type": "code",
   "execution_count": null,
   "metadata": {},
   "outputs": [],
   "source": [
    "elo_results = pd.DataFrame(compute_elo_ratings(to_use['winner_name'].values, to_use['loser_name'].values, lambda _: k))"
   ]
  },
  {
   "cell_type": "code",
   "execution_count": null,
   "metadata": {},
   "outputs": [],
   "source": [
    "# Standard Elo has a lower log likelihood:\n",
    "np.mean(np.log(elo_results['winner_prob']))"
   ]
  },
  {
   "cell_type": "code",
   "execution_count": null,
   "metadata": {},
   "outputs": [],
   "source": [
    "# Accuracy\n",
    "np.mean(elo_results['winner_prob'] > 0.5)"
   ]
  },
  {
   "cell_type": "code",
   "execution_count": null,
   "metadata": {},
   "outputs": [],
   "source": []
  }
 ],
 "metadata": {
  "kernelspec": {
   "display_name": "Python 3",
   "language": "python",
   "name": "python3"
  },
  "language_info": {
   "codemirror_mode": {
    "name": "ipython",
    "version": 3
   },
   "file_extension": ".py",
   "mimetype": "text/x-python",
   "name": "python",
   "nbconvert_exporter": "python",
   "pygments_lexer": "ipython3",
   "version": "3.7.9"
  }
 },
 "nbformat": 4,
 "nbformat_minor": 4
}
