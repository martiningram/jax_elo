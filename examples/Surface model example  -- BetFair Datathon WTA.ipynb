{
 "cells": [
  {
   "cell_type": "markdown",
   "metadata": {},
   "source": [
    "### Surface model example\n",
    "\n",
    "This example shows how to fit the model taking margin of victory and surface into account.\n",
    "\n",
    "There is a set of convenient functions in `jax_elo.models.correlated_skills_model` which we will use for this."
   ]
  },
  {
   "cell_type": "code",
   "execution_count": null,
   "metadata": {},
   "outputs": [],
   "source": [
    "import os\n",
    "os.environ['CUDA_VISIBLE_DEVICES'] = ''\n",
    "#from jax.config import config\n",
    "\n",
    "#config.update('jax_disable_jit', True)\n",
    "\n",
    "from jax_elo.models.covariates_best_of_five_model import fit, calculate_ratings, get_player_skill_history\n",
    "from jax_elo.utils.data import get_data"
   ]
  },
  {
   "cell_type": "code",
   "execution_count": null,
   "metadata": {},
   "outputs": [],
   "source": [
    "# Change this to where your data is located.\n",
    "# This uses Jeff Sackmann's dataset, which is available here:\n",
    "# https://github.com/JeffSackmann/tennis_atp\n",
    "#data = get_data('/Users/ingramm/Projects/tennis/tennis-data/data/sackmann/tennis_atp/')\n",
    "\n",
    "from tdata.datasets.oncourt_dataset import OnCourtDataset\n",
    "from tdata.enums.t_type import Tours\n",
    "\n",
    "dataset = OnCourtDataset(Tours.wta, drop_challengers=False, drop_qualifying=False)"
   ]
  },
  {
   "cell_type": "code",
   "execution_count": null,
   "metadata": {},
   "outputs": [],
   "source": [
    "data = dataset.get_stats_df()"
   ]
  },
  {
   "cell_type": "code",
   "execution_count": null,
   "metadata": {},
   "outputs": [],
   "source": []
  },
  {
   "cell_type": "code",
   "execution_count": null,
   "metadata": {},
   "outputs": [],
   "source": [
    "from tdata.datasets.oncourt_dataset import calculate_sp_proportion, is_slam"
   ]
  },
  {
   "cell_type": "code",
   "execution_count": null,
   "metadata": {},
   "outputs": [],
   "source": [
    "to_use = data[data['start_date'].dt.year >= 2010]\n",
    "to_use = to_use[to_use['surface'] != 'carpet']\n",
    "to_use = to_use[to_use['tournament_rank'] > 0]\n",
    "\n",
    "to_use['rank_to_use'] = to_use['tournament_rank']\n",
    "to_use['rank_to_use'] = to_use['rank_to_use'].replace({\n",
    "    0: 'Ch & Q',\n",
    "    1: 'Ch & Q',\n",
    "    2: 'Main tour',\n",
    "    3: 'Main tour',\n",
    "    4: 'Slam'\n",
    "})\n",
    "to_use.loc[(to_use['rank_to_use'] == 'Main tour') & (to_use['round'] <= 3), 'rank_to_use'] = 'Ch & Q'"
   ]
  },
  {
   "cell_type": "code",
   "execution_count": null,
   "metadata": {},
   "outputs": [],
   "source": [
    "spw_winner, spw_loser = calculate_sp_proportion(to_use)"
   ]
  },
  {
   "cell_type": "code",
   "execution_count": null,
   "metadata": {},
   "outputs": [],
   "source": [
    "to_use['spw_winner'] = spw_winner\n",
    "to_use['spw_loser'] = spw_loser\n"
   ]
  },
  {
   "cell_type": "code",
   "execution_count": null,
   "metadata": {},
   "outputs": [],
   "source": [
    "# Compute the margin on the % of service points won\n",
    "margins = to_use['spw_winner'] - to_use['spw_loser']"
   ]
  },
  {
   "cell_type": "code",
   "execution_count": null,
   "metadata": {},
   "outputs": [],
   "source": [
    "was_retirement = to_use['score'].str.contains('ret|w/o').values"
   ]
  },
  {
   "cell_type": "code",
   "execution_count": null,
   "metadata": {},
   "outputs": [],
   "source": [
    "import numpy as np\n",
    "\n",
    "to_drop = (np.isnan(margins.values) & (~was_retirement)) | (to_use['tournament_rank'] == 6)\n",
    "\n",
    "to_use = to_use[~to_drop]\n",
    "\n",
    "margins = to_use['spw_winner'] - to_use['spw_loser']\n",
    "was_retirement = to_use['score'].str.contains('ret|w/o').values"
   ]
  },
  {
   "cell_type": "code",
   "execution_count": null,
   "metadata": {},
   "outputs": [],
   "source": [
    "winner_is_wc = to_use['winner_seed'].str.contains('WC').fillna(False).values\n",
    "loser_is_wc = to_use['loser_seed'].str.contains('WC').fillna(False).values"
   ]
  },
  {
   "cell_type": "code",
   "execution_count": null,
   "metadata": {},
   "outputs": [],
   "source": [
    "winner_info = {'is_wildcard': winner_is_wc}\n",
    "loser_info = {'is_wildcard': loser_is_wc}"
   ]
  },
  {
   "cell_type": "code",
   "execution_count": null,
   "metadata": {},
   "outputs": [],
   "source": [
    "margins.max(), margins.min()"
   ]
  },
  {
   "cell_type": "code",
   "execution_count": null,
   "metadata": {},
   "outputs": [],
   "source": [
    "was_retirement.mean()"
   ]
  },
  {
   "cell_type": "code",
   "execution_count": null,
   "metadata": {},
   "outputs": [],
   "source": [
    "margins[was_retirement] = 0."
   ]
  },
  {
   "cell_type": "code",
   "execution_count": null,
   "metadata": {},
   "outputs": [],
   "source": [
    "margins.sort_values().head(10)"
   ]
  },
  {
   "cell_type": "code",
   "execution_count": null,
   "metadata": {},
   "outputs": [],
   "source": [
    "import os\n",
    "os.environ['CUDA_VISIBLE_DEVICES'] = ''\n",
    "import jax.numpy as jnp"
   ]
  },
  {
   "cell_type": "code",
   "execution_count": null,
   "metadata": {},
   "outputs": [],
   "source": [
    "to_use['rank_to_use'].value_counts()"
   ]
  },
  {
   "cell_type": "code",
   "execution_count": null,
   "metadata": {},
   "outputs": [],
   "source": [
    "to_use.tail(30)"
   ]
  },
  {
   "cell_type": "code",
   "execution_count": null,
   "metadata": {},
   "outputs": [],
   "source": [
    "from jax_elo.core import EloParams"
   ]
  },
  {
   "cell_type": "code",
   "execution_count": null,
   "metadata": {},
   "outputs": [],
   "source": [
    "# Fit the model -- this might take a few minutes (but not more than that)\n",
    "#params, opt_info = fit(to_use['winner'].values, to_use['loser'].values, to_use['surface'].values,\n",
    "#                       to_use['rank_to_use'].astype(str).values, np.zeros(to_use.shape[0]),\n",
    "#                       is_challenger=to_use['rank_to_use'].str.contains('Ch').values,\n",
    "#                       margins=margins.values, was_retirement=was_retirement, verbose=True, \n",
    "#                       retirement_skill_factor=False, winner_wildcard=winner_is_wc,\n",
    "#                       loser_wildcard=loser_is_wc)\n",
    "\n",
    "#np.savez('2014_with_challengers_wta', **params.theta)\n",
    "\n",
    "param_array = np.load('./2014_with_challengers_wta.npz')\n",
    "param_array = {x: jnp.array(y) for x, y in param_array.items()}\n",
    "\n",
    "params = EloParams(theta=dict(param_array))"
   ]
  },
  {
   "cell_type": "code",
   "execution_count": null,
   "metadata": {},
   "outputs": [],
   "source": [
    "params"
   ]
  },
  {
   "cell_type": "code",
   "execution_count": null,
   "metadata": {},
   "outputs": [],
   "source": [
    "# We can now calculate the rating history:\n",
    "history, final_rating_dict, mark_names, rank_names = calculate_ratings(\n",
    "    params, to_use['winner'].values, to_use['loser'].values, \n",
    "    to_use['surface'].values, to_use['rank_to_use'].astype(str).values, \n",
    "    np.zeros(to_use.shape[0]),\n",
    "    is_challenger=to_use['rank_to_use'].str.contains('Ch').values,\n",
    "    margins=margins.values, was_retirement=was_retirement,\n",
    "    winner_info=winner_info,\n",
    "    loser_info=loser_info)"
   ]
  },
  {
   "cell_type": "code",
   "execution_count": null,
   "metadata": {},
   "outputs": [],
   "source": [
    "to_use[to_use['winner'].str.contains('Brady')]"
   ]
  },
  {
   "cell_type": "code",
   "execution_count": null,
   "metadata": {},
   "outputs": [],
   "source": [
    "rank_names"
   ]
  },
  {
   "cell_type": "code",
   "execution_count": null,
   "metadata": {},
   "outputs": [],
   "source": [
    "#pd.DataFrame(params.theta['tournament_rank_offsets'], index=rank_names[1:],\n",
    "#             columns = mark_names.tolist() + rank_names.tolist()).round(2)"
   ]
  },
  {
   "cell_type": "code",
   "execution_count": null,
   "metadata": {},
   "outputs": [],
   "source": [
    "history[0]"
   ]
  },
  {
   "cell_type": "code",
   "execution_count": null,
   "metadata": {},
   "outputs": [],
   "source": [
    "# Here's an example entry:\n",
    "import pandas as pd\n",
    "import matplotlib.pyplot as plt\n",
    "from tpr.models.utils import to_elo_scale\n",
    "%matplotlib inline\n",
    "\n",
    "final_ratings = pd.DataFrame(final_rating_dict, index=mark_names.tolist() + rank_names.tolist()).T\n",
    "\n",
    "slam_ratings = to_elo_scale(final_ratings['clay'] + final_ratings['Slam'])\n",
    "final_ratings['Total'] = slam_ratings\n",
    "#final_ratings['clay'] = to_elo_scale(final_ratings['clay'])\n",
    "final_ratings['4'] = final_ratings['Total'] - final_ratings['clay']\n",
    "\n",
    "final_ratings = final_ratings.rename(columns={'clay': 'Clay', '4': 'Slam+'})"
   ]
  },
  {
   "cell_type": "code",
   "execution_count": null,
   "metadata": {},
   "outputs": [],
   "source": [
    "(final_ratings.sort_values('Total', ascending=False).head(20)['Total']).astype(int)"
   ]
  },
  {
   "cell_type": "code",
   "execution_count": null,
   "metadata": {},
   "outputs": [],
   "source": [
    "to_elo_scale(0.6 * final_ratings['hard'] + 0.3 * final_ratings['Clay'] + 0.1 * final_ratings['grass']).sort_values(ascending=False).round(2)"
   ]
  },
  {
   "cell_type": "code",
   "execution_count": null,
   "metadata": {},
   "outputs": [],
   "source": [
    "#np.savez('fit_params_2014_with_chall', **params.theta)"
   ]
  },
  {
   "cell_type": "code",
   "execution_count": null,
   "metadata": {},
   "outputs": [],
   "source": [
    "final_ratings.sort_values('Total', ascending=False).drop(\n",
    "    ['Na Li', 'Naomi Osaka', 'Ashleigh Barty', 'Victoria Azarenka', 'Serena Williams']).head(20)[\n",
    "    ['Clay', 'Slam+', 'Total']].round(0).astype(int)"
   ]
  },
  {
   "cell_type": "code",
   "execution_count": null,
   "metadata": {},
   "outputs": [],
   "source": [
    "today_df = pd.read_csv('/home/martin/projects/tennis-data/data/oncourt/today_wta.csv')\n",
    "player_df = pd.read_csv('/home/martin/projects/tennis-data/data/oncourt/players_wta.csv')"
   ]
  },
  {
   "cell_type": "code",
   "execution_count": null,
   "metadata": {},
   "outputs": [],
   "source": [
    "today_df[today_df['TOUR'] == 13350]"
   ]
  },
  {
   "cell_type": "code",
   "execution_count": null,
   "metadata": {},
   "outputs": [],
   "source": [
    "lookup = {row.ID_P: row.NAME_P for row in player_df.itertuples()}"
   ]
  },
  {
   "cell_type": "code",
   "execution_count": null,
   "metadata": {},
   "outputs": [],
   "source": [
    "today_df['p1'] = [lookup[row.ID1] for row in today_df.itertuples()]\n",
    "today_df['p2'] = [lookup[row.ID2] for row in today_df.itertuples()]"
   ]
  },
  {
   "cell_type": "code",
   "execution_count": null,
   "metadata": {},
   "outputs": [],
   "source": [
    "not_played = today_df[today_df['RESULT'].isnull()]\n",
    "uso = not_played[not_played['TOUR'] == 13350]\n",
    "uso = uso[~uso['p1'].str.contains('/|Unknown') & ~uso['p2'].str.contains('/|Unknown')]"
   ]
  },
  {
   "cell_type": "code",
   "execution_count": null,
   "metadata": {},
   "outputs": [],
   "source": [
    "#not_played[not_played['p1'].str.contains('Altmaier')]"
   ]
  },
  {
   "cell_type": "code",
   "execution_count": null,
   "metadata": {},
   "outputs": [],
   "source": [
    "matches = uso[['p1', 'p2']]"
   ]
  },
  {
   "cell_type": "code",
   "execution_count": null,
   "metadata": {},
   "outputs": [],
   "source": [
    "matches"
   ]
  },
  {
   "cell_type": "code",
   "execution_count": null,
   "metadata": {},
   "outputs": [],
   "source": [
    "ratings_dict = final_ratings['Total'].to_dict()"
   ]
  },
  {
   "cell_type": "code",
   "execution_count": null,
   "metadata": {},
   "outputs": [],
   "source": [
    "matches['elo_p1'] = [ratings_dict.get(row.p1, 1500.) for row in matches.itertuples()]\n",
    "matches['elo_p2'] = [ratings_dict.get(row.p2, 1500.) for row in matches.itertuples()]"
   ]
  },
  {
   "cell_type": "code",
   "execution_count": null,
   "metadata": {},
   "outputs": [],
   "source": [
    "matches['elo_sum'] = matches['elo_p1'] + matches['elo_p2']\n",
    "matches['elo_diff'] = np.abs(matches['elo_p1'] - matches['elo_p2'])"
   ]
  },
  {
   "cell_type": "code",
   "execution_count": null,
   "metadata": {},
   "outputs": [],
   "source": [
    "from tpr.models.elo.basic_elo import EloPredictor"
   ]
  },
  {
   "cell_type": "code",
   "execution_count": null,
   "metadata": {},
   "outputs": [],
   "source": [
    "from jax_elo.models.covariates_best_of_five_model import margin_functions_retirement\n",
    "\n",
    "a = np.array([0, 0, 1, 0, 0, 0, 1])\n",
    "\n",
    "cur_y = {\n",
    "    'margin': -1,\n",
    "    'bo5': 0,\n",
    "    'was_retirement': 0\n",
    "}\n",
    "\n",
    "win_probs = [margin_functions_retirement.win_prob_fun(final_rating_dict[row.p1],\n",
    "                                                    final_rating_dict[row.p2],\n",
    "                                                    np.concatenate([a, -a]),\n",
    "                                                    cur_y, params)\n",
    "             for row in matches.itertuples()]\n",
    "\n",
    "matches['quality'] = EloPredictor.win_probability(1900., matches['elo_sum'] / 2)\n",
    "matches['win_prob'] = np.array(win_probs)\n",
    "matches['entropy'] = -(1 - matches['win_prob']) * np.log(1 - matches['win_prob']) - matches['win_prob'] * np.log(matches['win_prob'])"
   ]
  },
  {
   "cell_type": "code",
   "execution_count": null,
   "metadata": {},
   "outputs": [],
   "source": [
    "matches['overall'] = matches['entropy'] + matches['quality']"
   ]
  },
  {
   "cell_type": "code",
   "execution_count": null,
   "metadata": {},
   "outputs": [],
   "source": [
    "res = matches.sort_values('overall', ascending=False)[['p1', 'p2', 'win_prob',\n",
    "                                                 'quality', 'entropy', 'overall']].round(3).head(30).reset_index(drop=True)\n",
    "\n",
    "res.index += 1\n",
    "\n",
    "res"
   ]
  },
  {
   "cell_type": "code",
   "execution_count": null,
   "metadata": {},
   "outputs": [],
   "source": [
    "0.36 * 3.95 - 1"
   ]
  },
  {
   "cell_type": "code",
   "execution_count": null,
   "metadata": {},
   "outputs": [],
   "source": [
    "# Kelly\n",
    "(0.36 * (3.95) - 1) / (3.95 - 1)"
   ]
  },
  {
   "cell_type": "code",
   "execution_count": null,
   "metadata": {},
   "outputs": [],
   "source": [
    "0.14 * 42.89"
   ]
  },
  {
   "cell_type": "code",
   "execution_count": null,
   "metadata": {},
   "outputs": [],
   "source": [
    "0.3712 * (-10) + 0.2688 * 15 + 0.209 * 15 + 0.152* 40"
   ]
  },
  {
   "cell_type": "code",
   "execution_count": null,
   "metadata": {},
   "outputs": [],
   "source": [
    "from tpr.models.utils import odds_prob_equal_allocation\n",
    "\n",
    "odds_prob_equal_allocation(3.05, 1.47)"
   ]
  },
  {
   "cell_type": "code",
   "execution_count": null,
   "metadata": {},
   "outputs": [],
   "source": [
    "matches[matches['p1'].str.contains('Ruus')]"
   ]
  },
  {
   "cell_type": "code",
   "execution_count": null,
   "metadata": {},
   "outputs": [],
   "source": [
    "to_check = 'Ons Jabeur'\n",
    "\n",
    "cur_matches = [x for x in history if x['winner'] == to_check or x['loser'] == to_check]\n",
    "cur_prior_mu = pd.DataFrame([x['prior_mu_winner'] if x['winner'] == to_check else x['prior_mu_loser']\n",
    "                for x in cur_matches], columns=final_ratings.columns[:-2])\n",
    "\n",
    "slam_skill = to_elo_scale(cur_prior_mu['Clay'] + cur_prior_mu['Slam'])\n",
    "rel = (to_use['winner'] == to_check) | (to_use['loser'] == to_check)\n",
    "rel_matches = to_use[rel]\n",
    "\n",
    "rel_dates = rel_matches['start_date']\n",
    "opponent_names = [x['loser'] if x['winner'] == to_check else x['winner'] for x in cur_matches]"
   ]
  },
  {
   "cell_type": "code",
   "execution_count": null,
   "metadata": {},
   "outputs": [],
   "source": [
    "player_df = pd.DataFrame({'date': rel_dates.values, 'opponent': opponent_names,\n",
    "                          'rating': slam_skill})\n",
    "\n",
    "#player_df.to_csv('/home/martin/projects/courses/d3/first_project/ruud_ratings.csv')"
   ]
  },
  {
   "cell_type": "code",
   "execution_count": null,
   "metadata": {},
   "outputs": [],
   "source": [
    "slam_skill"
   ]
  },
  {
   "cell_type": "code",
   "execution_count": null,
   "metadata": {},
   "outputs": [],
   "source": [
    "import plotly.express as pxe\n",
    "\n",
    "pxe.scatter(x=rel_dates, y=slam_skill, hover_name=opponent_names)"
   ]
  },
  {
   "cell_type": "code",
   "execution_count": null,
   "metadata": {},
   "outputs": [],
   "source": [
    "win_probs = pd.Series([x['prior_win_prob'] for x in history])"
   ]
  },
  {
   "cell_type": "code",
   "execution_count": null,
   "metadata": {},
   "outputs": [],
   "source": [
    "not_ret = ~was_retirement\n",
    "np.mean(np.log(win_probs)[not_ret & (to_use['round'].values >= 4) & (to_use['tournament_rank'].values >= 2)])"
   ]
  },
  {
   "cell_type": "code",
   "execution_count": null,
   "metadata": {},
   "outputs": [],
   "source": [
    "to_use['pred_prob'] = win_probs.values"
   ]
  },
  {
   "cell_type": "code",
   "execution_count": null,
   "metadata": {},
   "outputs": [],
   "source": [
    "to_use[to_use['tournament_name'].str.contains('Australian Open - Melbourne') & \n",
    "       (to_use['year'] == 2021)]['pred_prob'].sort_values()"
   ]
  },
  {
   "cell_type": "code",
   "execution_count": null,
   "metadata": {},
   "outputs": [],
   "source": [
    "from tpr.models.utils import odds_prob_equal_allocation\n",
    "\n",
    "win_probs_odds = odds_prob_equal_allocation(to_use['winner_odds'], to_use['loser_odds'])\n",
    "\n",
    "to_use['win_prob_odds'] = win_probs_odds\n",
    "\n",
    "odds_available = ~to_use['win_prob_odds'].isnull()"
   ]
  },
  {
   "cell_type": "code",
   "execution_count": null,
   "metadata": {},
   "outputs": [],
   "source": [
    "np.log(to_use[to_use['tournament_name'].str.contains('Australian Open - Melbourne') & \n",
    "              (to_use['year'] == 2021) & odds_available]['pred_prob'].astype(float)).mean()"
   ]
  },
  {
   "cell_type": "code",
   "execution_count": null,
   "metadata": {},
   "outputs": [],
   "source": [
    "np.log(to_use[to_use['tournament_name'].str.contains('Australian Open - Melbourne') & \n",
    "              (to_use['year'] == 2021) & odds_available]['win_prob_odds'].astype(float)).mean()"
   ]
  },
  {
   "cell_type": "code",
   "execution_count": null,
   "metadata": {},
   "outputs": [],
   "source": [
    "(to_use[to_use['tournament_name'].str.contains('Australian Open - Melbourne') & \n",
    "        (to_use['year'] == 2021) & odds_available]['pred_prob'] > 0.5).mean()"
   ]
  },
  {
   "cell_type": "code",
   "execution_count": null,
   "metadata": {},
   "outputs": [],
   "source": [
    "(to_use[to_use['tournament_name'].str.contains('Australian Open - Melbourne') & \n",
    "              (to_use['year'] == 2021) & odds_available]['win_prob_odds'] > 0.5).mean()"
   ]
  },
  {
   "cell_type": "code",
   "execution_count": null,
   "metadata": {},
   "outputs": [],
   "source": [
    "probs_ao_model.index.get_level_values(0)"
   ]
  },
  {
   "cell_type": "code",
   "execution_count": null,
   "metadata": {},
   "outputs": [],
   "source": [
    "probs_ao_model = to_use[to_use['tournament_name'].str.contains('Australian Open - Melbourne') & \n",
    "              (to_use['year'] == 2021) & odds_available]['pred_prob'].astype(float)\n",
    "\n",
    "probs_ao_odds = to_use[to_use['tournament_name'].str.contains('Australian Open - Melbourne') & \n",
    "              (to_use['year'] == 2021) & odds_available]['win_prob_odds'].astype(float)\n",
    "\n",
    "pxe.scatter(x=probs_ao_model, y=probs_ao_odds, \n",
    "            hover_name=probs_ao_model.index.get_level_values(0) + ' bt. ' + \n",
    "            probs_ao_model.index.get_level_values(1), labels={'x': 'Model', 'y': 'Odds'})"
   ]
  },
  {
   "cell_type": "code",
   "execution_count": null,
   "metadata": {},
   "outputs": [],
   "source": [
    "# TODO: Could fit a logistic regression here to just the AO matches."
   ]
  },
  {
   "cell_type": "code",
   "execution_count": null,
   "metadata": {},
   "outputs": [],
   "source": [
    "np.log(to_use[to_use['tournament_name'].str.contains('French Open') & (to_use['year'] == 2020)\n",
    "              & (to_use['round'] >= 4)]['pred_prob'].astype(float)).mean()"
   ]
  },
  {
   "cell_type": "code",
   "execution_count": null,
   "metadata": {},
   "outputs": [],
   "source": [
    "(to_use[to_use['tournament_name'].str.contains('French Open') & (to_use['year'] == 2020)\n",
    "        & (to_use['round'] >= 4)]['pred_prob'] > 0.5).mean()"
   ]
  },
  {
   "cell_type": "code",
   "execution_count": null,
   "metadata": {},
   "outputs": [],
   "source": [
    "np.log(to_use[to_use.year.isin([2018, 2019]) & ~was_retirement & (to_use['tournament_rank'] >= 2)\n",
    "              & (to_use['round'] > 3)]['pred_prob'].astype(float)).mean()"
   ]
  },
  {
   "cell_type": "code",
   "execution_count": null,
   "metadata": {},
   "outputs": [],
   "source": [
    "to_use[to_use.year.isin([2018, 2019])& ~was_retirement & (to_use['tournament_rank'] >= 2)\n",
    "       & (to_use['round'] > 3)].shape"
   ]
  },
  {
   "cell_type": "code",
   "execution_count": null,
   "metadata": {},
   "outputs": [],
   "source": [
    "to_use"
   ]
  },
  {
   "cell_type": "code",
   "execution_count": null,
   "metadata": {},
   "outputs": [],
   "source": []
  },
  {
   "cell_type": "code",
   "execution_count": null,
   "metadata": {},
   "outputs": [],
   "source": [
    "np.log(to_use[to_use.year.isin([2018, 2019, 2020]) & ~was_retirement & (to_use['tournament_rank'] == 4)\n",
    "              & (to_use['round'] >= 4) & odds_available & \n",
    "              (to_use['surface'] == 'clay').values]['win_prob_odds'].astype(float)).mean()"
   ]
  },
  {
   "cell_type": "code",
   "execution_count": null,
   "metadata": {},
   "outputs": [],
   "source": [
    "np.mean(np.log(win_probs)[not_ret & (to_use['round'].values >= 4) & (to_use['tournament_rank'].values == 4)\n",
    "                          & odds_available.values & to_use.year.isin([2018, 2019, 2020]).values\n",
    "                          & (to_use['surface'] == 'clay').values])"
   ]
  },
  {
   "cell_type": "code",
   "execution_count": null,
   "metadata": {},
   "outputs": [],
   "source": [
    "to_use.to_csv('with_odds_wta.csv')"
   ]
  },
  {
   "cell_type": "code",
   "execution_count": null,
   "metadata": {},
   "outputs": [],
   "source": [
    "df = pd.read_csv('/home/martin/projects/betfair_datathon/Final draw data pack/submission_file_womens_draw.csv')"
   ]
  },
  {
   "cell_type": "code",
   "execution_count": null,
   "metadata": {},
   "outputs": [],
   "source": [
    "known_players = set(final_ratings['Total'].index.values)"
   ]
  },
  {
   "cell_type": "code",
   "execution_count": null,
   "metadata": {},
   "outputs": [],
   "source": [
    "betfair = set(df['player_1'].values) | set(df['player_2'].values)"
   ]
  },
  {
   "cell_type": "code",
   "execution_count": null,
   "metadata": {},
   "outputs": [],
   "source": [
    "lookup = pd.Series({x: x in known_players for x in betfair})"
   ]
  },
  {
   "cell_type": "code",
   "execution_count": null,
   "metadata": {},
   "outputs": [],
   "source": [
    "lookup[~lookup]"
   ]
  },
  {
   "cell_type": "code",
   "execution_count": null,
   "metadata": {},
   "outputs": [],
   "source": [
    "ps = final_ratings.index\n",
    "ps[ps.str.contains('Schmiedlova')]"
   ]
  },
  {
   "cell_type": "code",
   "execution_count": null,
   "metadata": {},
   "outputs": [],
   "source": [
    "# Translate from OnCourt to betfair\n",
    "oc_to_bf_dict = {\n",
    "    'Su-Wei Hsieh': 'Su Wei Hsieh',\n",
    "    'Christina Mchale': 'Christina McHale',\n",
    "    'Irina-Camelia Begu': 'Irina Camelia Begu',\n",
    "    'Liudmila Samsonova': 'Ludmilla Samsonova',\n",
    "    'Bianca Vanessa Andreescu': 'Bianca Andreescu',\n",
    "    'Jil Teichmann': 'Jil Belen Teichmann',\n",
    "    'Daria Kasatkina': 'Darya Kasatkina',\n",
    "    'Barbora Strycova': 'Barbora Zahlavova Strycova',\n",
    "    'Paula Badosa Gibert': 'Paula Badosa',\n",
    "    'Anna Schmiedlova': 'Anna Karolina Schmiedlova'\n",
    "}"
   ]
  },
  {
   "cell_type": "code",
   "execution_count": null,
   "metadata": {},
   "outputs": [],
   "source": [
    "final_rating_dict_bf = {oc_to_bf_dict.get(x, x): y for x, y in final_rating_dict.items()}"
   ]
  },
  {
   "cell_type": "code",
   "execution_count": null,
   "metadata": {},
   "outputs": [],
   "source": [
    "new_known = set(final_rating_dict_bf.keys())\n",
    "\n",
    "betfair - new_known"
   ]
  },
  {
   "cell_type": "code",
   "execution_count": null,
   "metadata": {},
   "outputs": [],
   "source": [
    "mark_names.tolist() + rank_names.tolist()"
   ]
  },
  {
   "cell_type": "code",
   "execution_count": null,
   "metadata": {},
   "outputs": [],
   "source": [
    "a = np.array([0, 0, 1, 0, 0, 0, 1])\n",
    "\n",
    "cur_y = {\n",
    "    'margin': -1,\n",
    "    'bo5': 0,\n",
    "    'was_retirement': 0\n",
    "}\n",
    "\n",
    "win_probs = [margin_functions_retirement.win_prob_fun(final_rating_dict_bf[row.player_1],\n",
    "                                                      final_rating_dict_bf[row.player_2],\n",
    "                                                      np.concatenate([a, -a]),\n",
    "                                                      cur_y, params)\n",
    "             for row in df.itertuples()]"
   ]
  },
  {
   "cell_type": "code",
   "execution_count": null,
   "metadata": {},
   "outputs": [],
   "source": [
    "df['player_1_win_probability'] = pd.Series([float(x) for x in win_probs])"
   ]
  },
  {
   "cell_type": "code",
   "execution_count": null,
   "metadata": {},
   "outputs": [],
   "source": [
    "df"
   ]
  },
  {
   "cell_type": "code",
   "execution_count": null,
   "metadata": {},
   "outputs": [],
   "source": [
    "df.to_csv('/home/martin/projects/betfair_datathon/ext_elo_submission_file_womens_draw.csv', index=False)"
   ]
  },
  {
   "cell_type": "code",
   "execution_count": null,
   "metadata": {},
   "outputs": [],
   "source": []
  }
 ],
 "metadata": {
  "kernelspec": {
   "display_name": "Python 3",
   "language": "python",
   "name": "python3"
  },
  "language_info": {
   "codemirror_mode": {
    "name": "ipython",
    "version": 3
   },
   "file_extension": ".py",
   "mimetype": "text/x-python",
   "name": "python",
   "nbconvert_exporter": "python",
   "pygments_lexer": "ipython3",
   "version": "3.7.9"
  }
 },
 "nbformat": 4,
 "nbformat_minor": 4
}
