{
 "cells": [
  {
   "cell_type": "markdown",
   "metadata": {},
   "source": [
    "# Custom EloFunctions\n",
    "\n",
    "This example walks through the creation of a custom Elo algorithm taking into account the different formats used in tennis matches.\n",
    "\n",
    "Tennis matches on the men's professional circuit are broadly played in two formats: best of three sets, and best of five sets. Best of five set matches are longer and have been shown to be less prone to upsets, so the better player is more likely to win than in a best of three set match (see for example [here](https://www.degruyter.com/view/j/jqas.2018.14.issue-1/jqas-2017-0077/jqas-2017-0077.xml) for more details).\n",
    "\n",
    "From a model perspective, rather than using the usual win probability of:\n",
    "\n",
    "$p(win | \\delta) = \\textrm{logit}^{-1}(b \\delta)$\n",
    "\n",
    "where $b = \\log(10) / 400$ to match Elo's win probability, we could instead model it as:\n",
    "\n",
    "$p(win | \\delta) = \\textrm{logit}^{-1}(b * (1 + \\textrm{is_bo5} * \\textrm{bo5_factor}) * \\delta)$\n",
    "\n",
    "where is_bo5 is an indicator of whether it's a best of five match, and bo5_factor is the (most likely positive) addition when it's a best of five match.\n",
    "\n",
    "In the following, we walk through how to specify `EloFunctions` to use with this framework to take this into account. To do this, we're going to build off the \"basic.py\" functions found in `jax_elo/elo_functions/basic.py` to keep things simple, so we won't be including a margin of victory."
   ]
  },
  {
   "cell_type": "code",
   "execution_count": 1,
   "metadata": {},
   "outputs": [
    {
     "name": "stderr",
     "output_type": "stream",
     "text": [
      "/Users/ingramm/miniconda3/envs/tf/lib/python3.7/site-packages/jax/lib/xla_bridge.py:116: UserWarning: No GPU/TPU found, falling back to CPU.\n",
      "  warnings.warn('No GPU/TPU found, falling back to CPU.')\n"
     ]
    }
   ],
   "source": [
    "# We first import what we'll need:\n",
    "from functools import partial\n",
    "\n",
    "import jax.numpy as jnp\n",
    "from jax import jit, grad, hessian\n",
    "from jax.scipy.special import expit\n",
    "from jax.scipy.stats import multivariate_normal\n",
    "\n",
    "from jax_elo.utils.normals import weighted_sum, logistic_normal_integral_approx\n",
    "from jax_elo.core import EloFunctions, calculate_win_prob, get_starting_elts\n",
    "from jax_elo.utils.flattening import reconstruct\n",
    "from jax_elo.utils.linalg import num_mat_elts, pos_def_mat_from_tri_elts\n",
    "\n",
    "\n",
    "# The pre-factor to switch to the Elo scale, as discussed\n",
    "b = jnp.log(10) / 400.\n",
    "\n",
    "\n",
    "# First, we specify the (log) likelihood.\n",
    "@jit\n",
    "def calculate_likelihood(x, mu, a, theta, y):\n",
    "    \n",
    "    # a @ x will give us the skill difference (see paper for details):\n",
    "    delta = a @ x\n",
    "    \n",
    "    # Now we'll assume that y[0] is the bo5 indicator:\n",
    "    is_bo5 = y[0]\n",
    "    \n",
    "    # Now we write down the log likelihood as discussed\n",
    "    # We'll have to make sure to include the bo5 factor in the dictionary of parameters theta later.\n",
    "    win_prob = jnp.log(\n",
    "        expit(b * (1 + is_bo5 * theta['bo5_factor']) * delta))\n",
    "\n",
    "    return win_prob\n",
    "\n",
    "# Now, we need to modify the (log) marginal likelihood in a similar way.\n",
    "@jit\n",
    "def calculate_marginal_lik(x, mu, a, cov_mat, theta, y):\n",
    "\n",
    "    # This gives the mean and variance of delta:\n",
    "    latent_mean, latent_var = weighted_sum(x, cov_mat, a)\n",
    "        \n",
    "    # Define our new multiplier:\n",
    "    is_bo5 = y[0]\n",
    "    multiplier = b * (1 + is_bo5 * theta['bo5_factor'])\n",
    "    \n",
    "    # Multiplying a normal random variable with mean mu and variance sigma^2\n",
    "    # by a factor c will yield a new normal distribution with mean c * mu and\n",
    "    # variance c^2 sigma^2, so we use that to calculate the integral approximation:\n",
    "    win_prob = jnp.log(logistic_normal_integral_approx(\n",
    "        multiplier * latent_mean, multiplier**2 * latent_var))\n",
    "\n",
    "    return win_prob\n",
    "\n",
    "# The (log) prior here is multivariate normal to account for correlated skills:\n",
    "@jit\n",
    "def calculate_prior(x, mu, cov_mat, theta):\n",
    "\n",
    "    return multivariate_normal.logpdf(x, mu, cov_mat)\n",
    "\n",
    "\n",
    "# The log posterior is the log_prior plus the log_likelihood:\n",
    "@jit\n",
    "def calculate_log_posterior(x, mu, cov_mat, a, theta, y):\n",
    "\n",
    "    return (calculate_likelihood(x, mu, a, theta, y) +\n",
    "            calculate_prior(x, mu, cov_mat, theta))\n",
    "\n",
    "# The parse_theta function has to make the dictionary theta from a flat vector\n",
    "# to use in the optimisation.\n",
    "def parse_theta(flat_theta, summary):\n",
    "    \n",
    "    # Use the reconstruct utility function to turn the flat array into a dictionary\n",
    "    theta = reconstruct(flat_theta, summary, jnp.reshape)\n",
    "    \n",
    "    # We need to recover the covariance matrix from its triangular elements\n",
    "    # This is necessary because we are optimising over covariance matrices,\n",
    "    # and the lower triangular representation ensures that we will always\n",
    "    # have valid positive definite matrices.\n",
    "    cov_elts = theta['cov_mat']\n",
    "    target_mat_size = num_mat_elts(len(cov_elts))\n",
    "    cov_mat = pos_def_mat_from_tri_elts(cov_elts, target_mat_size)\n",
    "    theta['cov_mat'] = cov_mat\n",
    "    \n",
    "    return theta\n",
    "\n",
    "# Finally, we need to define a new win probability function:\n",
    "def calculate_win_prob_bo5(mu1, mu2, a, y, elo_params):\n",
    "    \n",
    "    is_bo5 = y[0]\n",
    "    pre_factor = b * (1 + is_bo5 * elo_params.theta['bo5_factor'])\n",
    "    \n",
    "    # We can use the usual function since it has a pre_factor argument:\n",
    "    return calculate_win_prob(mu1, mu2, a, y, elo_params, \n",
    "                              pre_factor=pre_factor)\n",
    "\n",
    "# Now we put these together into the Tuple of EloFunctions, using\n",
    "# JAX to compute the Jacobian and Hessian needed for the update:\n",
    "bo5_functions = EloFunctions(\n",
    "    log_post_jac_x=jit(grad(calculate_log_posterior)),\n",
    "    log_post_hess_x=jit(hessian(calculate_log_posterior)),\n",
    "    marginal_lik_fun=calculate_marginal_lik,\n",
    "    parse_theta_fun=parse_theta,\n",
    "    win_prob_fun=jit(calculate_win_prob_bo5))"
   ]
  },
  {
   "cell_type": "markdown",
   "metadata": {},
   "source": [
    "### Fitting the parameters"
   ]
  },
  {
   "cell_type": "code",
   "execution_count": 2,
   "metadata": {},
   "outputs": [],
   "source": [
    "# Now let's try it. Get the data:\n",
    "from jax_elo.utils.data import get_data\n",
    "\n",
    "# Point this to where your tennis_atp dataset is\n",
    "df = get_data('/Users/ingramm/Projects/tennis/tennis-data/data/sackmann/tennis_atp/')\n",
    "\n",
    "# Use only some recent years\n",
    "to_use = df[df['tourney_date'].dt.year >= 2016]"
   ]
  },
  {
   "cell_type": "code",
   "execution_count": 3,
   "metadata": {},
   "outputs": [],
   "source": [
    "# Let's optimise the parameters:\n",
    "# Let's not make it surface specific to start with\n",
    "from jax_elo.core import optimise_elo, EloParams, calculate_ratings_history\n",
    "from jax_elo.utils.encoding import encode_players\n",
    "\n",
    "start_cov_mat = jnp.eye(1) * 100**2\n",
    "# As discussed in the parse_theta section, we use the triangular\n",
    "# elements of the cholesky decomposition of the covariance matrix\n",
    "# to make sure it stays a valid covariance matrix.\n",
    "start_cov_elts = get_starting_elts(start_cov_mat)\n",
    "\n",
    "start_theta = {'bo5_factor': jnp.array(0.), 'cov_mat': start_cov_elts}\n",
    "\n",
    "start_params = EloParams(theta=start_theta)"
   ]
  },
  {
   "cell_type": "code",
   "execution_count": 4,
   "metadata": {},
   "outputs": [],
   "source": [
    "winner_ids, loser_ids, unique_players = encode_players(to_use['winner_name'].values, to_use['loser_name'].values)"
   ]
  },
  {
   "cell_type": "code",
   "execution_count": 5,
   "metadata": {},
   "outputs": [],
   "source": [
    "n_matches = len(winner_ids)\n",
    "\n",
    "# We're not using surfaces here, so a is just [1, -1] for each match:\n",
    "a = jnp.stack([jnp.ones(n_matches), -jnp.ones(n_matches)], axis=1)\n",
    "\n",
    "# y is more interesting. We need a best of five indicator.\n",
    "# We'll just use slams here. This isn't quite right: some other tournaments are best of five.\n",
    "# But let's keep it simple here.\n",
    "is_bo5 = to_use['tourney_name'].isin(['Australian Open', 'Roland Garros', 'Wimbledon', 'US Open']).values\n",
    "\n",
    "# We need a 2D array, so reshape:\n",
    "y = is_bo5.reshape(-1, 1).astype(float)"
   ]
  },
  {
   "cell_type": "code",
   "execution_count": 6,
   "metadata": {
    "scrolled": true
   },
   "outputs": [
    {
     "name": "stdout",
     "output_type": "stream",
     "text": [
      "theta: {'bo5_factor': array(0.), 'cov_mat': DeviceArray([[10000.000001]], dtype=float64)}\n",
      "cov_mat: [[10000.000001]]\n",
      "theta: {'bo5_factor': Traced<ShapedArray(float64[])>with<JVPTrace(level=1/1)>\n",
      "  with primal = Traced<ShapedArray(float64[]):JaxprTrace(level=-1/1)>\n",
      "       tangent = Traced<ShapedArray(float64[]):JaxprTrace(level=0/1)>, 'cov_mat': Traced<ShapedArray(float64[1,1])>with<JVPTrace(level=1/1)>\n",
      "  with primal = Traced<ShapedArray(float64[1,1]):JaxprTrace(level=-1/1)>\n",
      "       tangent = Traced<ShapedArray(float64[1,1]):JaxprTrace(level=0/1)>}\n",
      "cov_mat: Traced<ShapedArray(float64[1,1])>with<JVPTrace(level=1/1)>\n",
      "  with primal = Traced<ShapedArray(float64[1,1]):JaxprTrace(level=-1/1)>\n",
      "       tangent = Traced<ShapedArray(float64[1,1]):JaxprTrace(level=0/1)>\n",
      "theta: {'bo5_factor': array(1.00962673), 'cov_mat': DeviceArray([[9994.50940957]], dtype=float64)}\n",
      "cov_mat: [[9994.50940957]]\n",
      "theta: {'bo5_factor': array(0.26884322), 'cov_mat': DeviceArray([[9998.53782003]], dtype=float64)}\n",
      "cov_mat: [[9998.53782003]]\n",
      "theta: {'bo5_factor': array(0.2627341), 'cov_mat': DeviceArray([[9646.86446026]], dtype=float64)}\n",
      "cov_mat: [[9646.86446026]]\n",
      "theta: {'bo5_factor': array(0.23829764), 'cov_mat': DeviceArray([[8303.12929485]], dtype=float64)}\n",
      "cov_mat: [[8303.12929485]]\n",
      "theta: {'bo5_factor': array(0.38140337), 'cov_mat': DeviceArray([[5295.93839301]], dtype=float64)}\n",
      "cov_mat: [[5295.93839301]]\n",
      "theta: {'bo5_factor': array(0.43328075), 'cov_mat': DeviceArray([[5958.91338351]], dtype=float64)}\n",
      "cov_mat: [[5958.91338351]]\n",
      "theta: {'bo5_factor': array(0.49059268), 'cov_mat': DeviceArray([[5811.1318405]], dtype=float64)}\n",
      "cov_mat: [[5811.1318405]]\n",
      "theta: {'bo5_factor': array(0.52381784), 'cov_mat': DeviceArray([[5708.47930333]], dtype=float64)}\n",
      "cov_mat: [[5708.47930333]]\n",
      "theta: {'bo5_factor': array(0.52651785), 'cov_mat': DeviceArray([[5703.95911409]], dtype=float64)}\n",
      "cov_mat: [[5703.95911409]]\n",
      "theta: {'bo5_factor': array(0.5266267), 'cov_mat': DeviceArray([[5704.04680952]], dtype=float64)}\n",
      "cov_mat: [[5704.04680952]]\n",
      "theta: {'bo5_factor': array(0.52662679), 'cov_mat': DeviceArray([[5704.06147268]], dtype=float64)}\n",
      "cov_mat: [[5704.06147268]]\n"
     ]
    }
   ],
   "source": [
    "# Now we're ready to optimise the parameters:\n",
    "opt_params, opt_results = optimise_elo(start_params, bo5_functions, winner_ids, loser_ids, a, y,\n",
    "                                       len(unique_players), tol=1e-5)"
   ]
  },
  {
   "cell_type": "code",
   "execution_count": 7,
   "metadata": {},
   "outputs": [
    {
     "data": {
      "text/plain": [
       "array(0.52662679)"
      ]
     },
     "execution_count": 7,
     "metadata": {},
     "output_type": "execute_result"
    }
   ],
   "source": [
    "# The estimated optimal bo5 factor\n",
    "opt_params.theta['bo5_factor']"
   ]
  },
  {
   "cell_type": "code",
   "execution_count": 8,
   "metadata": {},
   "outputs": [
    {
     "data": {
      "text/plain": [
       "DeviceArray([[5704.06147268]], dtype=float64)"
      ]
     },
     "execution_count": 8,
     "metadata": {},
     "output_type": "execute_result"
    }
   ],
   "source": [
    "# The estimated prior covariance matrix\n",
    "# Here we only have one skill, so it's 1x1\n",
    "opt_params.theta['cov_mat']"
   ]
  },
  {
   "cell_type": "markdown",
   "metadata": {},
   "source": [
    "### Using the final parameters to predict & evaluate"
   ]
  },
  {
   "cell_type": "code",
   "execution_count": 9,
   "metadata": {
    "scrolled": true
   },
   "outputs": [
    {
     "name": "stderr",
     "output_type": "stream",
     "text": [
      "  0%|          | 0/10850 [00:00<?, ?it/s]\n",
      "  0%|          | 0/10850 [00:00<?, ?it/s]\u001b[A\n",
      "  0%|          | 1/10850 [00:00<1:55:47,  1.56it/s]\u001b[A\n",
      "  0%|          | 36/10850 [00:00<1:20:56,  2.23it/s]\u001b[A\n",
      "  1%|          | 73/10850 [00:00<56:36,  3.17it/s]  \u001b[A\n",
      "  1%|          | 135/10850 [00:00<39:29,  4.52it/s]\u001b[A\n",
      "  2%|▏         | 189/10850 [00:01<27:36,  6.44it/s]\u001b[A\n",
      "  2%|▏         | 253/10850 [00:01<19:17,  9.16it/s]\u001b[A\n",
      "  3%|▎         | 307/10850 [00:01<13:32, 12.98it/s]\u001b[A\n",
      "  4%|▎         | 380/10850 [00:01<09:29, 18.40it/s]\u001b[A\n",
      "  4%|▍         | 479/10850 [00:01<06:37, 26.07it/s]\u001b[A\n",
      "  5%|▌         | 572/10850 [00:01<04:39, 36.80it/s]\u001b[A\n",
      "  6%|▌         | 669/10850 [00:01<03:16, 51.72it/s]\u001b[A\n",
      "  7%|▋         | 751/10850 [00:01<02:21, 71.20it/s]\u001b[A\n",
      "  8%|▊         | 826/10850 [00:01<01:42, 97.39it/s]\u001b[A\n",
      "  8%|▊         | 899/10850 [00:02<01:15, 131.37it/s]\u001b[A\n",
      "  9%|▉         | 972/10850 [00:02<00:57, 170.75it/s]\u001b[A\n",
      " 10%|▉         | 1040/10850 [00:02<00:44, 219.69it/s]\u001b[A\n",
      " 10%|█         | 1108/10850 [00:02<00:35, 275.41it/s]\u001b[A\n",
      " 11%|█         | 1187/10850 [00:02<00:28, 342.10it/s]\u001b[A\n",
      " 12%|█▏        | 1265/10850 [00:02<00:23, 410.24it/s]\u001b[A\n",
      " 12%|█▏        | 1350/10850 [00:02<00:19, 485.43it/s]\u001b[A\n",
      " 13%|█▎        | 1432/10850 [00:02<00:17, 551.93it/s]\u001b[A\n",
      " 14%|█▍        | 1518/10850 [00:02<00:15, 617.65it/s]\u001b[A\n",
      " 15%|█▍        | 1618/10850 [00:02<00:13, 693.96it/s]\u001b[A\n",
      " 16%|█▌        | 1708/10850 [00:03<00:12, 738.38it/s]\u001b[A\n",
      " 17%|█▋        | 1794/10850 [00:03<00:12, 753.39it/s]\u001b[A\n",
      " 17%|█▋        | 1890/10850 [00:03<00:11, 798.45it/s]\u001b[A\n",
      " 18%|█▊        | 1992/10850 [00:03<00:10, 850.67it/s]\u001b[A\n",
      " 19%|█▉        | 2097/10850 [00:03<00:09, 900.22it/s]\u001b[A\n",
      " 20%|██        | 2203/10850 [00:03<00:09, 941.40it/s]\u001b[A\n",
      " 21%|██        | 2301/10850 [00:03<00:09, 946.17it/s]\u001b[A\n",
      " 22%|██▏       | 2399/10850 [00:03<00:09, 901.42it/s]\u001b[A\n",
      " 23%|██▎       | 2503/10850 [00:03<00:08, 936.22it/s]\u001b[A\n",
      " 24%|██▍       | 2599/10850 [00:04<00:09, 897.80it/s]\u001b[A\n",
      " 25%|██▍       | 2700/10850 [00:04<00:08, 926.59it/s]\u001b[A\n",
      " 26%|██▌       | 2796/10850 [00:04<00:08, 934.92it/s]\u001b[A\n",
      " 27%|██▋       | 2896/10850 [00:04<00:08, 952.88it/s]\u001b[A\n",
      " 28%|██▊       | 3006/10850 [00:04<00:07, 988.67it/s]\u001b[A\n",
      " 29%|██▊       | 3106/10850 [00:04<00:07, 986.45it/s]\u001b[A\n",
      " 30%|██▉       | 3206/10850 [00:04<00:08, 923.11it/s]\u001b[A\n",
      " 30%|███       | 3300/10850 [00:04<00:09, 813.24it/s]\u001b[A\n",
      " 31%|███       | 3386/10850 [00:04<00:09, 822.75it/s]\u001b[A\n",
      " 32%|███▏      | 3474/10850 [00:04<00:08, 838.06it/s]\u001b[A\n",
      " 33%|███▎      | 3572/10850 [00:05<00:08, 874.44it/s]\u001b[A\n",
      " 34%|███▍      | 3662/10850 [00:05<00:08, 874.52it/s]\u001b[A\n",
      " 35%|███▍      | 3751/10850 [00:05<00:08, 878.88it/s]\u001b[A\n",
      " 35%|███▌      | 3843/10850 [00:05<00:07, 889.21it/s]\u001b[A\n",
      " 36%|███▋      | 3942/10850 [00:05<00:07, 915.40it/s]\u001b[A\n",
      " 37%|███▋      | 4052/10850 [00:05<00:07, 961.79it/s]\u001b[A\n",
      " 38%|███▊      | 4156/10850 [00:05<00:06, 979.27it/s]\u001b[A\n",
      " 39%|███▉      | 4255/10850 [00:05<00:06, 944.99it/s]\u001b[A\n",
      " 40%|████      | 4351/10850 [00:05<00:06, 941.96it/s]\u001b[A\n",
      " 41%|████      | 4446/10850 [00:06<00:06, 916.95it/s]\u001b[A\n",
      " 42%|████▏     | 4546/10850 [00:06<00:06, 938.63it/s]\u001b[A\n",
      " 43%|████▎     | 4646/10850 [00:06<00:06, 955.45it/s]\u001b[A\n",
      " 44%|████▎     | 4745/10850 [00:06<00:06, 964.33it/s]\u001b[A\n",
      " 45%|████▍     | 4842/10850 [00:06<00:06, 950.82it/s]\u001b[A\n",
      " 46%|████▌     | 4938/10850 [00:06<00:06, 897.45it/s]\u001b[A\n",
      " 46%|████▋     | 5029/10850 [00:06<00:06, 865.12it/s]\u001b[A\n",
      " 47%|████▋     | 5117/10850 [00:06<00:06, 830.61it/s]\u001b[A\n",
      " 48%|████▊     | 5206/10850 [00:06<00:06, 843.18it/s]\u001b[A\n",
      " 49%|████▉     | 5310/10850 [00:06<00:06, 891.81it/s]\u001b[A\n",
      " 50%|████▉     | 5401/10850 [00:07<00:06, 863.54it/s]\u001b[A\n",
      " 51%|█████     | 5495/10850 [00:07<00:06, 883.45it/s]\u001b[A\n",
      " 52%|█████▏    | 5600/10850 [00:07<00:05, 926.41it/s]\u001b[A\n",
      " 53%|█████▎    | 5704/10850 [00:07<00:05, 955.77it/s]\u001b[A\n",
      " 54%|█████▎    | 5809/10850 [00:07<00:05, 979.37it/s]\u001b[A\n",
      " 54%|█████▍    | 5911/10850 [00:07<00:04, 989.90it/s]\u001b[A\n",
      " 55%|█████▌    | 6011/10850 [00:07<00:04, 988.13it/s]\u001b[A\n",
      " 56%|█████▋    | 6111/10850 [00:07<00:04, 952.28it/s]\u001b[A\n",
      " 57%|█████▋    | 6212/10850 [00:07<00:04, 967.15it/s]\u001b[A\n",
      " 58%|█████▊    | 6317/10850 [00:08<00:04, 988.44it/s]\u001b[A\n",
      " 59%|█████▉    | 6417/10850 [00:08<00:04, 980.88it/s]\u001b[A\n",
      " 60%|██████    | 6516/10850 [00:08<00:04, 964.66it/s]\u001b[A\n",
      " 61%|██████    | 6613/10850 [00:08<00:04, 934.55it/s]\u001b[A\n",
      " 62%|██████▏   | 6720/10850 [00:08<00:04, 970.07it/s]\u001b[A\n",
      " 63%|██████▎   | 6818/10850 [00:08<00:04, 878.74it/s]\u001b[A\n",
      " 64%|██████▎   | 6908/10850 [00:08<00:05, 779.56it/s]\u001b[A\n",
      " 64%|██████▍   | 6990/10850 [00:08<00:05, 710.47it/s]\u001b[A\n",
      " 65%|██████▌   | 7073/10850 [00:08<00:05, 742.41it/s]\u001b[A\n",
      " 66%|██████▌   | 7151/10850 [00:09<00:04, 751.93it/s]\u001b[A\n",
      " 67%|██████▋   | 7229/10850 [00:09<00:04, 744.20it/s]\u001b[A\n",
      " 67%|██████▋   | 7306/10850 [00:09<00:04, 745.39it/s]\u001b[A\n",
      " 68%|██████▊   | 7382/10850 [00:09<00:04, 721.53it/s]\u001b[A\n",
      " 69%|██████▊   | 7456/10850 [00:09<00:04, 697.12it/s]\u001b[A\n",
      " 70%|██████▉   | 7550/10850 [00:09<00:04, 754.94it/s]\u001b[A\n",
      " 71%|███████   | 7726/10850 [00:09<00:03, 788.45it/s]\u001b[A\n",
      " 71%|███████   | 7727/10850 [00:09<00:04, 770.38it/s]\u001b[A\n",
      " 72%|███████▏  | 7807/10850 [00:09<00:03, 772.90it/s]\u001b[A\n",
      " 73%|███████▎  | 7887/10850 [00:10<00:03, 771.83it/s]\u001b[A\n",
      " 73%|███████▎  | 7965/10850 [00:10<00:03, 744.79it/s]\u001b[A\n",
      " 74%|███████▍  | 8046/10850 [00:10<00:03, 756.39it/s]\u001b[A\n",
      " 75%|███████▍  | 8125/10850 [00:10<00:03, 759.58it/s]\u001b[A\n",
      " 76%|███████▌  | 8209/10850 [00:10<00:03, 780.20it/s]\u001b[A\n",
      " 76%|███████▋  | 8292/10850 [00:10<00:03, 789.94it/s]\u001b[A\n",
      " 77%|███████▋  | 8379/10850 [00:10<00:03, 808.80it/s]\u001b[A\n",
      " 78%|███████▊  | 8465/10850 [00:10<00:02, 822.18it/s]\u001b[A\n",
      " 79%|███████▉  | 8548/10850 [00:10<00:02, 778.31it/s]\u001b[A\n",
      " 80%|████████  | 8705/10850 [00:11<00:02, 761.88it/s]\u001b[A\n",
      " 81%|████████  | 8782/10850 [00:11<00:02, 760.12it/s]\u001b[A\n",
      " 82%|████████▏ | 8867/10850 [00:11<00:02, 783.61it/s]\u001b[A\n",
      " 83%|████████▎ | 8967/10850 [00:11<00:02, 837.02it/s]\u001b[A\n",
      " 83%|████████▎ | 9052/10850 [00:11<00:02, 778.40it/s]\u001b[A\n",
      " 84%|████████▍ | 9134/10850 [00:11<00:02, 789.10it/s]\u001b[A\n",
      " 85%|████████▍ | 9215/10850 [00:11<00:02, 771.25it/s]\u001b[A\n",
      " 85%|████████▍ | 9216/10850 [00:11<00:02, 768.50it/s]\u001b[A\n",
      " 86%|████████▌ | 9294/10850 [00:11<00:02, 692.56it/s]\u001b[A\n",
      " 86%|████████▋ | 9366/10850 [00:11<00:02, 697.00it/s]\u001b[A\n",
      " 87%|████████▋ | 9446/10850 [00:12<00:01, 724.99it/s]\u001b[A\n",
      " 88%|████████▊ | 9522/10850 [00:12<00:01, 731.27it/s]\u001b[A\n",
      " 88%|████████▊ | 9601/10850 [00:12<00:01, 742.66it/s]\u001b[A\n",
      " 89%|████████▉ | 9684/10850 [00:12<00:01, 765.82it/s]\u001b[A\n",
      " 90%|█████████ | 9768/10850 [00:12<00:01, 784.25it/s]\u001b[A\n",
      " 91%|█████████ | 9855/10850 [00:12<00:01, 806.59it/s]\u001b[A\n",
      " 92%|█████████▏| 9939/10850 [00:12<00:01, 815.70it/s]\u001b[A\n",
      " 93%|█████████▎| 10098/10850 [00:12<00:01, 730.11it/s]\u001b[A\n",
      " 94%|█████████▍| 10173/10850 [00:13<00:00, 712.71it/s]\u001b[A\n",
      " 94%|█████████▍| 10246/10850 [00:13<00:00, 679.18it/s]\u001b[A\n",
      " 95%|█████████▌| 10315/10850 [00:13<00:00, 660.53it/s]\u001b[A\n",
      " 96%|█████████▌| 10392/10850 [00:13<00:00, 688.18it/s]\u001b[A\n",
      " 97%|█████████▋| 10479/10850 [00:13<00:00, 731.22it/s]\u001b[A\n",
      " 97%|█████████▋| 10555/10850 [00:13<00:00, 737.33it/s]\u001b[A\n",
      " 98%|█████████▊| 10630/10850 [00:13<00:00, 687.60it/s]\u001b[A\n",
      " 98%|█████████▊| 10631/10850 [00:13<00:00, 684.05it/s]\u001b[A\n",
      " 99%|█████████▊| 10701/10850 [00:13<00:00, 644.77it/s]\u001b[A\n",
      "100%|██████████| 10850/10850 [00:14<00:00, 774.41it/s]\u001b[A\n",
      "100%|██████████| 10850/10850 [00:14<00:00, 774.65it/s]\n"
     ]
    }
   ],
   "source": [
    "history, final_ratings = calculate_ratings_history(to_use['winner_name'], to_use['loser_name'], a, y, \n",
    "                                                   bo5_functions, opt_params)"
   ]
  },
  {
   "cell_type": "code",
   "execution_count": 10,
   "metadata": {},
   "outputs": [
    {
     "name": "stdout",
     "output_type": "stream",
     "text": [
      "Best of five:  0.63\n",
      "Best of three:  0.593\n"
     ]
    }
   ],
   "source": [
    "# As expected, the optimal factor is greater than zero.\n",
    "# We can compare the win probability at a slam / not a slam:\n",
    "p1 = 'Novak Djokovic'\n",
    "p2 = 'Rafael Nadal'\n",
    "\n",
    "p1_final_rating = final_ratings[p1]\n",
    "p2_final_rating = final_ratings[p2]\n",
    "\n",
    "a = jnp.array([1, -1])\n",
    "\n",
    "# Comparing the two:\n",
    "print('Best of five: ', jnp.round(\n",
    "    calculate_win_prob_bo5(p1_final_rating, p2_final_rating, a, [1.], opt_params), 3))\n",
    "print('Best of three: ', jnp.round(\n",
    "    calculate_win_prob_bo5(p1_final_rating, p2_final_rating, a, [0.], opt_params), 3))"
   ]
  },
  {
   "cell_type": "code",
   "execution_count": 11,
   "metadata": {},
   "outputs": [
    {
     "data": {
      "text/plain": [
       "DeviceArray(-0.62765106, dtype=float64)"
      ]
     },
     "execution_count": 11,
     "metadata": {},
     "output_type": "execute_result"
    }
   ],
   "source": [
    "# How well does this predict?\n",
    "win_probs = jnp.stack([x['prior_win_prob'] for x in history])\n",
    "jnp.mean(jnp.log(win_probs))"
   ]
  },
  {
   "cell_type": "code",
   "execution_count": 12,
   "metadata": {},
   "outputs": [
    {
     "data": {
      "text/plain": [
       "DeviceArray(-0.62949445, dtype=float64)"
      ]
     },
     "execution_count": 12,
     "metadata": {},
     "output_type": "execute_result"
    }
   ],
   "source": [
    "from jax_elo.utils.elo import optimise_static_k, compute_elo_ratings\n",
    "\n",
    "# What if we just fit basic Elo, ignoring slams?\n",
    "k, success = optimise_static_k(to_use['winner_name'], to_use['loser_name'])\n",
    "elo_pred = compute_elo_ratings(to_use['winner_name'], to_use['loser_name'], lambda _: k)\n",
    "elo_win_probs = [x['winner_prob'] for x in elo_pred]\n",
    "jnp.mean(jnp.log(jnp.array(elo_win_probs)))"
   ]
  },
  {
   "cell_type": "code",
   "execution_count": 13,
   "metadata": {},
   "outputs": [],
   "source": [
    "import numpy as onp\n",
    "\n",
    "# So we're just a bit better, as you'd expect. What about at slams?\n",
    "result_df = to_use.copy()\n",
    "\n",
    "result_df['bo5_elo'] = onp.array(win_probs)\n",
    "result_df['elo'] = onp.array(elo_win_probs)"
   ]
  },
  {
   "cell_type": "code",
   "execution_count": 14,
   "metadata": {},
   "outputs": [],
   "source": [
    "result_df['is_bo5'] = is_bo5"
   ]
  },
  {
   "cell_type": "code",
   "execution_count": 15,
   "metadata": {},
   "outputs": [],
   "source": [
    "# So both predict better at slams, and the best of five version has a bigger edge there."
   ]
  },
  {
   "cell_type": "code",
   "execution_count": 16,
   "metadata": {},
   "outputs": [
    {
     "data": {
      "text/plain": [
       "is_bo5\n",
       "False   -0.647\n",
       "True    -0.557\n",
       "dtype: float64"
      ]
     },
     "execution_count": 16,
     "metadata": {},
     "output_type": "execute_result"
    }
   ],
   "source": [
    "result_df.groupby('is_bo5').apply(lambda df: onp.mean(onp.log(df['elo']))).round(3)"
   ]
  },
  {
   "cell_type": "code",
   "execution_count": 17,
   "metadata": {},
   "outputs": [
    {
     "data": {
      "text/plain": [
       "is_bo5\n",
       "False   -0.646\n",
       "True    -0.551\n",
       "dtype: float64"
      ]
     },
     "execution_count": 17,
     "metadata": {},
     "output_type": "execute_result"
    }
   ],
   "source": [
    "result_df.groupby('is_bo5').apply(lambda df: onp.mean(onp.log(df['bo5_elo']))).round(3)"
   ]
  },
  {
   "cell_type": "code",
   "execution_count": null,
   "metadata": {},
   "outputs": [],
   "source": []
  }
 ],
 "metadata": {
  "kernelspec": {
   "display_name": "Python 3",
   "language": "python",
   "name": "python3"
  },
  "language_info": {
   "codemirror_mode": {
    "name": "ipython",
    "version": 3
   },
   "file_extension": ".py",
   "mimetype": "text/x-python",
   "name": "python",
   "nbconvert_exporter": "python",
   "pygments_lexer": "ipython3",
   "version": "3.7.7"
  }
 },
 "nbformat": 4,
 "nbformat_minor": 4
}
